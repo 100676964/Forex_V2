{
 "cells": [
  {
   "cell_type": "code",
   "execution_count": 25,
   "id": "faced-creator",
   "metadata": {},
   "outputs": [
    {
     "name": "stdout",
     "output_type": "stream",
     "text": [
      " ¥¦·××Ð¡ª£§¢\n",
      "0123@helloworld\n"
     ]
    }
   ],
   "source": [
    "import base64\n",
    "import sys\n",
    "\n",
    "def encode(key, string):\n",
    "    encoded_chars = []\n",
    "    for i in range(len(string)):\n",
    "        key_c = key[i % len(key)]\n",
    "        encoded_c = chr(ord(string[i]) + ord(key_c) % 256)\n",
    "        encoded_chars.append(encoded_c)\n",
    "    encoded_string = ''.join(encoded_chars)\n",
    "    return encoded_string\n",
    "\n",
    "def decode(key, string):\n",
    "    encoded_chars = []\n",
    "    for i in range(len(string)):\n",
    "        key_c = key[i % len(key)]\n",
    "        encoded_c = chr((ord(string[i]) - ord(key_c) + 256) % 256)\n",
    "        encoded_chars.append(encoded_c)\n",
    "    encoded_string = ''.join(encoded_chars)\n",
    "    return encoded_string\n",
    "\n",
    "\n",
    "# stri='0123@helloworld'\n",
    "# key=\"password123456789abcdefghijklmnopqrstuvwxyz\"\n",
    "\n",
    "# enstr=encode(key,stri)\n",
    "\n",
    "# print(enstr)\n",
    "\n",
    "# destr=decode(key, enstr)\n",
    "\n",
    "# print(destr)"
   ]
  },
  {
   "cell_type": "code",
   "execution_count": null,
   "id": "downtown-population",
   "metadata": {},
   "outputs": [],
   "source": []
  }
 ],
 "metadata": {
  "kernelspec": {
   "display_name": "Python 3",
   "language": "python",
   "name": "python3"
  },
  "language_info": {
   "codemirror_mode": {
    "name": "ipython",
    "version": 3
   },
   "file_extension": ".py",
   "mimetype": "text/x-python",
   "name": "python",
   "nbconvert_exporter": "python",
   "pygments_lexer": "ipython3",
   "version": "3.8.8"
  }
 },
 "nbformat": 4,
 "nbformat_minor": 5
}